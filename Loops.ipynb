{
  "nbformat": 4,
  "nbformat_minor": 0,
  "metadata": {
    "colab": {
      "provenance": [],
      "authorship_tag": "ABX9TyP3o7GgAo1CLC8eBteyMzQ7"
    },
    "kernelspec": {
      "name": "python3",
      "display_name": "Python 3"
    },
    "language_info": {
      "name": "python"
    }
  },
  "cells": [
    {
      "cell_type": "markdown",
      "source": [
        "# **Loops**\n",
        "\n",
        "Python programming language provides two types of loops\n",
        "* While loop  \n",
        "* For loop"
      ],
      "metadata": {
        "id": "soS2uaPyCilj"
      }
    },
    {
      "cell_type": "markdown",
      "source": [
        "### **While Loop:-**\n",
        "**While loop** we can execute a set of statements as long as a **condition is True**\n",
        "\n",
        "*syntax:-*  \n",
        "while expression:  \n",
        "    statement(s)\n"
      ],
      "metadata": {
        "id": "XKEP3kexC8_4"
      }
    },
    {
      "cell_type": "code",
      "execution_count": null,
      "metadata": {
        "id": "h2DiSEfZxxii",
        "colab": {
          "base_uri": "https://localhost:8080/"
        },
        "outputId": "72a42134-5900-44fd-9130-830b014b2c20"
      },
      "outputs": [
        {
          "output_type": "stream",
          "name": "stdout",
          "text": [
            "Hello Colab\n",
            "Hello Colab\n",
            "Hello Colab\n"
          ]
        }
      ],
      "source": [
        "c=0\n",
        "while (c<3):\n",
        "  c=c+1\n",
        "  print('Hello Colab')"
      ]
    },
    {
      "cell_type": "code",
      "source": [
        "count = 0\n",
        "while (count < 3):\n",
        "    count = count + 1\n",
        "    print(\"Hello colab\")\n",
        "else:\n",
        "    print(\"In Else Block\")"
      ],
      "metadata": {
        "colab": {
          "base_uri": "https://localhost:8080/"
        },
        "id": "fV_ckfRTElgx",
        "outputId": "61616295-84d0-44e2-99d2-a32b47a6206b"
      },
      "execution_count": null,
      "outputs": [
        {
          "output_type": "stream",
          "name": "stdout",
          "text": [
            "Hello colab\n",
            "Hello colab\n",
            "Hello colab\n",
            "In Else Block\n"
          ]
        }
      ]
    },
    {
      "cell_type": "markdown",
      "source": [
        "### **For loop:-**\n",
        "A **for loop** is used for iterating over a sequence. With the **for loop** we can execute a set of statements, once for each item in a list, tuple, set etc\n",
        "\n",
        "*syntax:-*  \n",
        "for iterator_var in sequence:  \n",
        "    statements(s)"
      ],
      "metadata": {
        "id": "53t15XcYKaBI"
      }
    },
    {
      "cell_type": "code",
      "source": [
        "n=10\n",
        "for i in range(0,n):\n",
        "  print(i)"
      ],
      "metadata": {
        "colab": {
          "base_uri": "https://localhost:8080/"
        },
        "id": "6tJDVpJjKprz",
        "outputId": "bcc5568b-453d-4927-c25e-b36ea047262c"
      },
      "execution_count": null,
      "outputs": [
        {
          "output_type": "stream",
          "name": "stdout",
          "text": [
            "0\n",
            "1\n",
            "2\n",
            "3\n",
            "4\n",
            "5\n",
            "6\n",
            "7\n",
            "8\n",
            "9\n"
          ]
        }
      ]
    },
    {
      "cell_type": "code",
      "source": [
        "print(\"List Iteration\")\n",
        "l = [\"geeks\", \"for\", \"geeks\"]\n",
        "for i in l:\n",
        "\tprint(i)\n",
        "print(\"\\nTuple Iteration\")\n",
        "t = (\"geeks\", \"for\", \"geeks\")\n",
        "for i in t:\n",
        "\tprint(i)\n",
        "print(\"\\nString Iteration\")\n",
        "s = \"Geeks\"\n",
        "for i in s:\n",
        "\tprint(i)\n",
        "print(\"\\nDictionary Iteration\")\n",
        "d = dict()\n",
        "d['xyz'] = 123\n",
        "d['abc'] = 345\n",
        "for i in d:\n",
        "\tprint(\"%s %d\" % (i, d[i]))\n",
        "print(\"\\nSet Iteration\")\n",
        "set1 = {1, 2, 3, 4, 5, 6}\n",
        "for i in set1:\n",
        "\tprint(i),\n"
      ],
      "metadata": {
        "id": "6YR4U_FKKpj-"
      },
      "execution_count": null,
      "outputs": []
    },
    {
      "cell_type": "code",
      "source": [
        "print('List')\n",
        "l=['Manoj','Kumar','S']\n",
        "for i in l:\n",
        "  print(i)\n",
        "print('\\nTuple')\n",
        "t=('Manoj','kumar','S')\n",
        "for i in t:\n",
        "  print(i)\n",
        "print('\\nSets')\n",
        "s={'Manoj','kumar','S'}\n",
        "for i in t:\n",
        "  print(i)\n",
        "print('\\nDictionary')\n",
        "d = dict()\n",
        "d['xyz'] = 123\n",
        "d['abc'] = 345\n",
        "for i in d:\n",
        "    print(\"%s  %d\" % (i, d[i]))\n",
        "print('\\nString')\n",
        "st='ManojkumarS'\n",
        "for i in st:\n",
        "  print(i)"
      ],
      "metadata": {
        "colab": {
          "base_uri": "https://localhost:8080/"
        },
        "id": "GxLpoYDzKpxr",
        "outputId": "657e2d8b-c567-4b68-ba70-c57b922d157b"
      },
      "execution_count": null,
      "outputs": [
        {
          "output_type": "stream",
          "name": "stdout",
          "text": [
            "List\n",
            "Manoj\n",
            "Kumar\n",
            "S\n",
            "\n",
            "Tuple\n",
            "Manoj\n",
            "kumar\n",
            "S\n",
            "\n",
            "Sets\n",
            "Manoj\n",
            "kumar\n",
            "S\n",
            "\n",
            "Dictionary\n",
            "xyz  123\n",
            "abc  345\n",
            "\n",
            "String\n",
            "M\n",
            "a\n",
            "n\n",
            "o\n",
            "j\n",
            "k\n",
            "u\n",
            "m\n",
            "a\n",
            "r\n",
            "S\n"
          ]
        }
      ]
    },
    {
      "cell_type": "markdown",
      "source": [
        "### **Nested Loop:-**\n",
        "Python programming language allows to use one loop inside another loop which is called nested loop.\n",
        "\n",
        "*nested for syntax:-*  \n",
        "for iterator_var in sequence:  \n",
        "   for iterator_var in sequence:  \n",
        "       statements(s)  \n",
        "   statements(s)\n",
        "\n",
        "*nested while syntax:-*  \n",
        "while expression:  \n",
        "   while expression:   \n",
        "       statement(s)  \n",
        "   statement(s)\n"
      ],
      "metadata": {
        "id": "i3vjW7KbLzlx"
      }
    },
    {
      "cell_type": "code",
      "source": [
        "for letter in 'googlecolab':\n",
        "    if letter == 'e' or letter == 's':\n",
        "        continue\n",
        "    print('Current Letter :', letter)"
      ],
      "metadata": {
        "colab": {
          "base_uri": "https://localhost:8080/"
        },
        "id": "cx8fa-avRTkO",
        "outputId": "1b6b2c96-9150-4fa8-e103-867403b89a5c"
      },
      "execution_count": null,
      "outputs": [
        {
          "output_type": "stream",
          "name": "stdout",
          "text": [
            "Current Letter : g\n",
            "Current Letter : o\n",
            "Current Letter : o\n",
            "Current Letter : g\n",
            "Current Letter : l\n",
            "Current Letter : c\n",
            "Current Letter : o\n",
            "Current Letter : l\n",
            "Current Letter : a\n",
            "Current Letter : b\n"
          ]
        }
      ]
    }
  ]
}
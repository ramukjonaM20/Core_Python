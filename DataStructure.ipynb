{
  "nbformat": 4,
  "nbformat_minor": 0,
  "metadata": {
    "colab": {
      "provenance": [],
      "authorship_tag": "ABX9TyOEvjkTDx2QkXjuHiLqy5l7"
    },
    "kernelspec": {
      "name": "python3",
      "display_name": "Python 3"
    },
    "language_info": {
      "name": "python"
    }
  },
  "cells": [
    {
      "cell_type": "markdown",
      "source": [
        "# **Data Structure**\n",
        "Data structure is a fundamental concept in programming, which is required for easily storing and retrieving data. Python has four main data structures split between mutable (lists, dictionaries, and sets) and immutable (tuples) types.\n",
        "* List\n",
        "* Tuple\n",
        "* Sets\n",
        "* Dictionary\n"
      ],
      "metadata": {
        "id": "35vNS1GDHsPJ"
      }
    },
    {
      "cell_type": "markdown",
      "source": [
        "### **1. List:**\n",
        "\n",
        "***Definition***:-  \n",
        "A list is a mutable, ordered collection of elements. It is defined using square brackets [ ].\n",
        "\n",
        "***Declaration***:-  \n",
        "my_list = [1, 2, 3, 'hello', 4.5]"
      ],
      "metadata": {
        "id": "_5QGFhrdTZFC"
      }
    },
    {
      "cell_type": "code",
      "execution_count": 1,
      "metadata": {
        "id": "gzrBgcfi53uA",
        "colab": {
          "base_uri": "https://localhost:8080/"
        },
        "outputId": "3b163298-94b2-4dbb-f3fd-48595e1fdc5b"
      },
      "outputs": [
        {
          "output_type": "stream",
          "name": "stdout",
          "text": [
            "<class 'list'>\n",
            "[5, 5.2, 'man', False, (2+3j)]\n"
          ]
        }
      ],
      "source": [
        "a=[5,5.2,'man',False,2+3j]\n",
        "print(type(a)) #used to identify the type of a\n",
        "print(a)"
      ]
    },
    {
      "cell_type": "code",
      "source": [
        "print(\"Length of a is \",len(a)) #used to identify the lenght of a"
      ],
      "metadata": {
        "colab": {
          "base_uri": "https://localhost:8080/"
        },
        "id": "n3yI6RLdU4_x",
        "outputId": "3856a05c-317c-400d-c522-04b607d58128"
      },
      "execution_count": 2,
      "outputs": [
        {
          "output_type": "stream",
          "name": "stdout",
          "text": [
            "Length of a is  5\n"
          ]
        }
      ]
    },
    {
      "cell_type": "code",
      "source": [
        "print(a[1]) #list is indexable"
      ],
      "metadata": {
        "colab": {
          "base_uri": "https://localhost:8080/"
        },
        "id": "X2yS9F8RVlww",
        "outputId": "23a02ec9-f15e-4d9f-8b6b-bbe09950dcac"
      },
      "execution_count": 3,
      "outputs": [
        {
          "output_type": "stream",
          "name": "stdout",
          "text": [
            "5.2\n"
          ]
        }
      ]
    },
    {
      "cell_type": "code",
      "source": [
        "print(a[-2]) #indexing is possible in both left to right and right to left"
      ],
      "metadata": {
        "colab": {
          "base_uri": "https://localhost:8080/"
        },
        "id": "Q_L7ykvKVpmi",
        "outputId": "982c428b-ea27-469a-d7d9-9da753a5dcb6"
      },
      "execution_count": 4,
      "outputs": [
        {
          "output_type": "stream",
          "name": "stdout",
          "text": [
            "False\n"
          ]
        }
      ]
    },
    {
      "cell_type": "code",
      "source": [
        "a.append(70) #used to add values in list\n",
        "print(a)"
      ],
      "metadata": {
        "colab": {
          "base_uri": "https://localhost:8080/"
        },
        "id": "y9cI7baOVsly",
        "outputId": "1a0e2299-b6d8-4ec9-bc1a-bad1ce5b5501"
      },
      "execution_count": 5,
      "outputs": [
        {
          "output_type": "stream",
          "name": "stdout",
          "text": [
            "[5, 5.2, 'man', False, (2+3j), 70]\n"
          ]
        }
      ]
    },
    {
      "cell_type": "code",
      "source": [
        "a.append([3,4,5]) #Nested List is allowed\n",
        "print(a)"
      ],
      "metadata": {
        "colab": {
          "base_uri": "https://localhost:8080/"
        },
        "id": "xWcBP5PiVwhV",
        "outputId": "47cb7d7a-0947-4393-849f-6386de99a8f6"
      },
      "execution_count": 6,
      "outputs": [
        {
          "output_type": "stream",
          "name": "stdout",
          "text": [
            "[5, 5.2, 'man', False, (2+3j), 70, [3, 4, 5]]\n"
          ]
        }
      ]
    },
    {
      "cell_type": "code",
      "source": [
        "a.extend([3,4,5])  #Adding multiple value in the list is possible\n",
        "print(a)"
      ],
      "metadata": {
        "colab": {
          "base_uri": "https://localhost:8080/"
        },
        "id": "2VdALqn-Vzbe",
        "outputId": "fc7ba884-982a-4c27-f080-4d891d30ae8a"
      },
      "execution_count": 7,
      "outputs": [
        {
          "output_type": "stream",
          "name": "stdout",
          "text": [
            "[5, 5.2, 'man', False, (2+3j), 70, [3, 4, 5], 3, 4, 5]\n"
          ]
        }
      ]
    },
    {
      "cell_type": "code",
      "source": [
        "a.insert(5,\"world\") #Insert a value in the middle of the list using index number\n",
        "print(a)"
      ],
      "metadata": {
        "colab": {
          "base_uri": "https://localhost:8080/"
        },
        "id": "hxfF0ufdV25Y",
        "outputId": "5247926c-0196-4006-bc9d-92c3ceb5b28b"
      },
      "execution_count": 8,
      "outputs": [
        {
          "output_type": "stream",
          "name": "stdout",
          "text": [
            "[5, 5.2, 'man', False, (2+3j), 'world', 70, [3, 4, 5], 3, 4, 5]\n"
          ]
        }
      ]
    },
    {
      "cell_type": "code",
      "source": [
        "print(a.pop(7)) #pop is used to take any value from a list using index\n",
        "print(a)"
      ],
      "metadata": {
        "colab": {
          "base_uri": "https://localhost:8080/"
        },
        "id": "vcf-Q_h3V48W",
        "outputId": "32179341-5267-4e74-f39f-f5980695c149"
      },
      "execution_count": 9,
      "outputs": [
        {
          "output_type": "stream",
          "name": "stdout",
          "text": [
            "[3, 4, 5]\n",
            "[5, 5.2, 'man', False, (2+3j), 'world', 70, 3, 4, 5]\n"
          ]
        }
      ]
    },
    {
      "cell_type": "code",
      "source": [
        "a.remove('world') #remove is used to remove a value from a list\n",
        "print(a)"
      ],
      "metadata": {
        "colab": {
          "base_uri": "https://localhost:8080/"
        },
        "id": "SpO6GxKoV68k",
        "outputId": "b4d3af7f-3e79-44c2-e546-4cc318743b48"
      },
      "execution_count": 10,
      "outputs": [
        {
          "output_type": "stream",
          "name": "stdout",
          "text": [
            "[5, 5.2, 'man', False, (2+3j), 70, 3, 4, 5]\n"
          ]
        }
      ]
    },
    {
      "cell_type": "code",
      "source": [
        "a.reverse() #reverse function is used to reverse a list\n",
        "print(a)"
      ],
      "metadata": {
        "colab": {
          "base_uri": "https://localhost:8080/"
        },
        "id": "DaHR31xiV9G4",
        "outputId": "cdeef779-0d9c-43a8-c94e-f5414a85d950"
      },
      "execution_count": 11,
      "outputs": [
        {
          "output_type": "stream",
          "name": "stdout",
          "text": [
            "[5, 4, 3, 70, (2+3j), False, 'man', 5.2, 5]\n"
          ]
        }
      ]
    },
    {
      "cell_type": "code",
      "source": [
        "a.reverse()\n",
        "print(a)"
      ],
      "metadata": {
        "colab": {
          "base_uri": "https://localhost:8080/"
        },
        "id": "B_VDkFhnV_-H",
        "outputId": "9f04e624-508b-4bc1-aee7-155f4faf7963"
      },
      "execution_count": 12,
      "outputs": [
        {
          "output_type": "stream",
          "name": "stdout",
          "text": [
            "[5, 5.2, 'man', False, (2+3j), 70, 3, 4, 5]\n"
          ]
        }
      ]
    },
    {
      "cell_type": "code",
      "source": [
        "a.clear()\n",
        "print(a)"
      ],
      "metadata": {
        "colab": {
          "base_uri": "https://localhost:8080/"
        },
        "id": "r1aZuIHzWCv1",
        "outputId": "36f5614f-fe12-4e4c-a8b9-0afa97a13d24"
      },
      "execution_count": 13,
      "outputs": [
        {
          "output_type": "stream",
          "name": "stdout",
          "text": [
            "[]\n"
          ]
        }
      ]
    },
    {
      "cell_type": "code",
      "source": [
        "b=[5,11,2,21,9,1,4]\n",
        "print(b.pop(3)) #pop before sort the list"
      ],
      "metadata": {
        "colab": {
          "base_uri": "https://localhost:8080/"
        },
        "id": "Y_c14bblWHMy",
        "outputId": "f5372c80-c3be-4467-ffee-753eb4be1d2c"
      },
      "execution_count": 14,
      "outputs": [
        {
          "output_type": "stream",
          "name": "stdout",
          "text": [
            "21\n"
          ]
        }
      ]
    },
    {
      "cell_type": "code",
      "source": [
        "b.sort() # Arrange values in ascending order\n",
        "print(b)"
      ],
      "metadata": {
        "colab": {
          "base_uri": "https://localhost:8080/"
        },
        "id": "lIXdsM-zhUFJ",
        "outputId": "98a69d38-59a0-452b-a971-e6a8933daea8"
      },
      "execution_count": 15,
      "outputs": [
        {
          "output_type": "stream",
          "name": "stdout",
          "text": [
            "[1, 2, 4, 5, 9, 11]\n"
          ]
        }
      ]
    },
    {
      "cell_type": "code",
      "source": [
        "b.pop(3) #pop after sort the list"
      ],
      "metadata": {
        "colab": {
          "base_uri": "https://localhost:8080/"
        },
        "id": "WFIs5fYRgfX6",
        "outputId": "e22b92e2-81cf-4600-bcff-6957f486be07"
      },
      "execution_count": 16,
      "outputs": [
        {
          "output_type": "execute_result",
          "data": {
            "text/plain": [
              "5"
            ]
          },
          "metadata": {},
          "execution_count": 16
        }
      ]
    },
    {
      "cell_type": "markdown",
      "source": [
        "### **2. Tuples:**\n",
        "\n",
        "***Definition***:-  \n",
        "A tuple is an immutable, ordered collection of elements. It is defined using parentheses ().  \n",
        "***Declaration***:-  \n",
        "my_tuple = (1, 2, 'hello', 4.5)"
      ],
      "metadata": {
        "id": "ArIYulYyWuBW"
      }
    },
    {
      "cell_type": "code",
      "source": [
        "#Various methods of tuples implementation\n",
        "c=(12,2.4,'ABC',True,1+2j)\n",
        "print('c : ',type(c)) #used to identify the type of c\n",
        "d=12,2.4,'ABC',True,1+2j\n",
        "print('d : ',type(d)) #used to identify the type of d\n",
        "e=(12,)\n",
        "print('e : ',type(e)) #used to identify the type of e\n",
        "f=(12)\n",
        "print('f : ',type(f)) #used to identify the type of f"
      ],
      "metadata": {
        "colab": {
          "base_uri": "https://localhost:8080/"
        },
        "id": "1mOALgGYWJhC",
        "outputId": "e2817af4-94bb-4e88-aeaa-eb64e7951a5c"
      },
      "execution_count": 17,
      "outputs": [
        {
          "output_type": "stream",
          "name": "stdout",
          "text": [
            "c :  <class 'tuple'>\n",
            "d :  <class 'tuple'>\n",
            "e :  <class 'tuple'>\n",
            "f :  <class 'int'>\n"
          ]
        }
      ]
    },
    {
      "cell_type": "code",
      "source": [
        "mark=(59,65,85,65,74)\n",
        "type(mark)"
      ],
      "metadata": {
        "colab": {
          "base_uri": "https://localhost:8080/"
        },
        "id": "BqW9IadXY8eg",
        "outputId": "1deb0b36-2aae-4b06-e2a5-3d5be04a282d"
      },
      "execution_count": 18,
      "outputs": [
        {
          "output_type": "execute_result",
          "data": {
            "text/plain": [
              "tuple"
            ]
          },
          "metadata": {},
          "execution_count": 18
        }
      ]
    },
    {
      "cell_type": "code",
      "source": [
        "mark.index(74) #used to identify the position of value in mark"
      ],
      "metadata": {
        "colab": {
          "base_uri": "https://localhost:8080/"
        },
        "id": "0SkduJbbbnUA",
        "outputId": "fbe87db6-ce59-4d43-a3b1-637a735bf734"
      },
      "execution_count": 19,
      "outputs": [
        {
          "output_type": "execute_result",
          "data": {
            "text/plain": [
              "4"
            ]
          },
          "metadata": {},
          "execution_count": 19
        }
      ]
    },
    {
      "cell_type": "code",
      "source": [
        "mark.count(65) #used to identify the Duplicate value in mark"
      ],
      "metadata": {
        "colab": {
          "base_uri": "https://localhost:8080/"
        },
        "id": "Ry_atU-Zclkm",
        "outputId": "a4c3730b-da70-4729-daeb-fb97927224eb"
      },
      "execution_count": 20,
      "outputs": [
        {
          "output_type": "execute_result",
          "data": {
            "text/plain": [
              "2"
            ]
          },
          "metadata": {},
          "execution_count": 20
        }
      ]
    },
    {
      "cell_type": "code",
      "source": [
        "len(mark)"
      ],
      "metadata": {
        "colab": {
          "base_uri": "https://localhost:8080/"
        },
        "id": "5K2oq2KWZdcD",
        "outputId": "556c1363-f79a-4d34-e2f1-23f3ad163c20"
      },
      "execution_count": 21,
      "outputs": [
        {
          "output_type": "execute_result",
          "data": {
            "text/plain": [
              "5"
            ]
          },
          "metadata": {},
          "execution_count": 21
        }
      ]
    },
    {
      "cell_type": "code",
      "source": [
        "sum(mark)"
      ],
      "metadata": {
        "colab": {
          "base_uri": "https://localhost:8080/"
        },
        "id": "ZM5igpzZbWm_",
        "outputId": "44c773c5-d22b-413c-ecb9-da665717800a"
      },
      "execution_count": 22,
      "outputs": [
        {
          "output_type": "execute_result",
          "data": {
            "text/plain": [
              "348"
            ]
          },
          "metadata": {},
          "execution_count": 22
        }
      ]
    },
    {
      "cell_type": "code",
      "source": [
        "min(mark)"
      ],
      "metadata": {
        "colab": {
          "base_uri": "https://localhost:8080/"
        },
        "id": "R-ZQl_tKbeCV",
        "outputId": "2a13416d-1352-4e7f-9c48-e96ea35d5721"
      },
      "execution_count": 23,
      "outputs": [
        {
          "output_type": "execute_result",
          "data": {
            "text/plain": [
              "59"
            ]
          },
          "metadata": {},
          "execution_count": 23
        }
      ]
    },
    {
      "cell_type": "code",
      "source": [
        "max(mark)"
      ],
      "metadata": {
        "colab": {
          "base_uri": "https://localhost:8080/"
        },
        "id": "uzD_XBO_bmD-",
        "outputId": "1dc2aa7e-7f9e-432b-e71d-bbb97a6f15b3"
      },
      "execution_count": 24,
      "outputs": [
        {
          "output_type": "execute_result",
          "data": {
            "text/plain": [
              "85"
            ]
          },
          "metadata": {},
          "execution_count": 24
        }
      ]
    },
    {
      "cell_type": "code",
      "source": [
        "#Concatenation of 2 tuples\n",
        "\n",
        "m1=(77,34,54,65)\n",
        "m2=(82,76,98,53)\n",
        "tot=m1+m2  #Concatenation\n",
        "print(tot)\n",
        "len(tot)"
      ],
      "metadata": {
        "colab": {
          "base_uri": "https://localhost:8080/"
        },
        "id": "ZOrODMa-b0_r",
        "outputId": "ecaad783-c947-4309-d7e7-3ae08f15ca2b"
      },
      "execution_count": 25,
      "outputs": [
        {
          "output_type": "stream",
          "name": "stdout",
          "text": [
            "(77, 34, 54, 65, 82, 76, 98, 53)\n"
          ]
        },
        {
          "output_type": "execute_result",
          "data": {
            "text/plain": [
              "8"
            ]
          },
          "metadata": {},
          "execution_count": 25
        }
      ]
    },
    {
      "cell_type": "code",
      "source": [
        "# Nested Tuples\n",
        "g=(1,3,2,[6,4,5],7)\n",
        "len(g)"
      ],
      "metadata": {
        "colab": {
          "base_uri": "https://localhost:8080/"
        },
        "id": "QcdHiM5gb7zX",
        "outputId": "627c7a35-61e4-489c-9901-06b4734f1715"
      },
      "execution_count": 26,
      "outputs": [
        {
          "output_type": "execute_result",
          "data": {
            "text/plain": [
              "5"
            ]
          },
          "metadata": {},
          "execution_count": 26
        }
      ]
    },
    {
      "cell_type": "code",
      "source": [
        "len(g[3])"
      ],
      "metadata": {
        "colab": {
          "base_uri": "https://localhost:8080/"
        },
        "id": "Hpt90ynVe2Ns",
        "outputId": "f3839ff1-c4c4-487b-b90c-8c56ed3c9e62"
      },
      "execution_count": 27,
      "outputs": [
        {
          "output_type": "execute_result",
          "data": {
            "text/plain": [
              "3"
            ]
          },
          "metadata": {},
          "execution_count": 27
        }
      ]
    },
    {
      "cell_type": "code",
      "source": [
        "g[3][2]"
      ],
      "metadata": {
        "colab": {
          "base_uri": "https://localhost:8080/"
        },
        "id": "-_KAxA-_e5fV",
        "outputId": "a369dd40-a52d-4179-f55e-3710f2824ab5"
      },
      "execution_count": 28,
      "outputs": [
        {
          "output_type": "execute_result",
          "data": {
            "text/plain": [
              "5"
            ]
          },
          "metadata": {},
          "execution_count": 28
        }
      ]
    },
    {
      "cell_type": "markdown",
      "source": [
        "### **3. Sets**:\n",
        "\n",
        "***Definition***:-  \n",
        "A set is an unordered collection of unique elements. It is defined using curly braces { }.  \n",
        "***Declaration***:-  \n",
        "my_set = {1, 2, 3, 'hello', 4.5}"
      ],
      "metadata": {
        "id": "33LPpKiLgUHN"
      }
    },
    {
      "cell_type": "code",
      "source": [
        "h={2,3,5,6,7,8,3}"
      ],
      "metadata": {
        "id": "m8mhTjQAf_rs"
      },
      "execution_count": 29,
      "outputs": []
    },
    {
      "cell_type": "code",
      "source": [
        "print(h)"
      ],
      "metadata": {
        "colab": {
          "base_uri": "https://localhost:8080/"
        },
        "id": "tvLBWu-Bix82",
        "outputId": "e9a87d84-0e1b-4395-b322-eb50c4e1e771"
      },
      "execution_count": 30,
      "outputs": [
        {
          "output_type": "stream",
          "name": "stdout",
          "text": [
            "{2, 3, 5, 6, 7, 8}\n"
          ]
        }
      ]
    },
    {
      "cell_type": "code",
      "source": [
        "h.add('Num')\n",
        "print(h)"
      ],
      "metadata": {
        "colab": {
          "base_uri": "https://localhost:8080/"
        },
        "id": "LvwG4PmokqUR",
        "outputId": "cfa992ae-fc10-4d21-b838-d4137b580de1"
      },
      "execution_count": 31,
      "outputs": [
        {
          "output_type": "stream",
          "name": "stdout",
          "text": [
            "{2, 3, 5, 6, 7, 8, 'Num'}\n"
          ]
        }
      ]
    },
    {
      "cell_type": "code",
      "source": [
        "i={'orange','mango'}\n",
        "h.update(i)\n",
        "print(h)"
      ],
      "metadata": {
        "colab": {
          "base_uri": "https://localhost:8080/"
        },
        "id": "3K5AV1azlfGF",
        "outputId": "9e0d5d36-09c4-4e11-d725-e25548602a27"
      },
      "execution_count": 32,
      "outputs": [
        {
          "output_type": "stream",
          "name": "stdout",
          "text": [
            "{2, 3, 5, 6, 7, 8, 'Num', 'orange', 'mango'}\n"
          ]
        }
      ]
    },
    {
      "cell_type": "code",
      "source": [
        "h.discard('Num')"
      ],
      "metadata": {
        "id": "dh7kwW1Cl0T8"
      },
      "execution_count": 33,
      "outputs": []
    },
    {
      "cell_type": "code",
      "source": [
        "h.remove('mango')"
      ],
      "metadata": {
        "id": "-ni9qUWBnlFK"
      },
      "execution_count": 34,
      "outputs": []
    },
    {
      "cell_type": "code",
      "source": [
        "h"
      ],
      "metadata": {
        "colab": {
          "base_uri": "https://localhost:8080/"
        },
        "id": "jVAfsH_rm24g",
        "outputId": "1caa8aef-628e-49bd-f55d-cf9d52f41ae9"
      },
      "execution_count": 35,
      "outputs": [
        {
          "output_type": "execute_result",
          "data": {
            "text/plain": [
              "{2, 3, 5, 6, 7, 8, 'orange'}"
            ]
          },
          "metadata": {},
          "execution_count": 35
        }
      ]
    },
    {
      "cell_type": "code",
      "source": [
        "h.remove('orange')"
      ],
      "metadata": {
        "id": "O7m2HDK-m4a8"
      },
      "execution_count": 36,
      "outputs": []
    },
    {
      "cell_type": "code",
      "source": [
        "h"
      ],
      "metadata": {
        "colab": {
          "base_uri": "https://localhost:8080/"
        },
        "id": "cMuQj5WfnBeI",
        "outputId": "f954adc3-22f5-4f9f-b415-e764527b09b0"
      },
      "execution_count": 37,
      "outputs": [
        {
          "output_type": "execute_result",
          "data": {
            "text/plain": [
              "{2, 3, 5, 6, 7, 8}"
            ]
          },
          "metadata": {},
          "execution_count": 37
        }
      ]
    },
    {
      "cell_type": "code",
      "source": [
        "j=h.pop()\n",
        "print(j)\n"
      ],
      "metadata": {
        "colab": {
          "base_uri": "https://localhost:8080/"
        },
        "id": "w0mWBpOgnDif",
        "outputId": "8e2d9255-d975-472c-d3df-5be9cf446a3c"
      },
      "execution_count": 38,
      "outputs": [
        {
          "output_type": "stream",
          "name": "stdout",
          "text": [
            "2\n"
          ]
        }
      ]
    },
    {
      "cell_type": "code",
      "source": [
        "#loop the set values\n",
        "for x in h:\n",
        "  print(x)"
      ],
      "metadata": {
        "colab": {
          "base_uri": "https://localhost:8080/"
        },
        "id": "VPZqSc5dnN8O",
        "outputId": "4fc77ad2-74b1-4b1f-8d1c-a46410f80cac"
      },
      "execution_count": 39,
      "outputs": [
        {
          "output_type": "stream",
          "name": "stdout",
          "text": [
            "3\n",
            "5\n",
            "6\n",
            "7\n",
            "8\n"
          ]
        }
      ]
    },
    {
      "cell_type": "code",
      "source": [
        "k={'a','b','c'}\n",
        "l={3,2,1}\n",
        "m=k.union(l)\n",
        "print(m)"
      ],
      "metadata": {
        "colab": {
          "base_uri": "https://localhost:8080/"
        },
        "id": "QinrW84ho52A",
        "outputId": "46361209-f138-4eaa-cf16-89a4c92bf0cb"
      },
      "execution_count": 40,
      "outputs": [
        {
          "output_type": "stream",
          "name": "stdout",
          "text": [
            "{1, 2, 3, 'a', 'c', 'b'}\n"
          ]
        }
      ]
    },
    {
      "cell_type": "code",
      "source": [
        "n={'a','b','c'}\n",
        "o={3,2,1}\n",
        "n.update(o)\n",
        "print(n)"
      ],
      "metadata": {
        "colab": {
          "base_uri": "https://localhost:8080/"
        },
        "outputId": "423d1f00-b7b8-4a32-be63-6371a9d197bb",
        "id": "VbjKB_LPp5dN"
      },
      "execution_count": 41,
      "outputs": [
        {
          "output_type": "stream",
          "name": "stdout",
          "text": [
            "{1, 2, 3, 'a', 'c', 'b'}\n"
          ]
        }
      ]
    },
    {
      "cell_type": "code",
      "source": [
        "p = {\"apple\", \"banana\", \"cherry\"}\n",
        "q = {\"google\", \"microsoft\", \"apple\"}\n",
        "r=p.intersection(q)\n",
        "print(r)"
      ],
      "metadata": {
        "colab": {
          "base_uri": "https://localhost:8080/"
        },
        "id": "2LTSVMxdpubE",
        "outputId": "2949b2d9-4cd2-41a8-c46a-c6203ec05a81"
      },
      "execution_count": 42,
      "outputs": [
        {
          "output_type": "stream",
          "name": "stdout",
          "text": [
            "{'apple'}\n"
          ]
        }
      ]
    },
    {
      "cell_type": "code",
      "source": [
        "p = {\"apple\", \"banana\", \"cherry\"}\n",
        "q = {\"google\", \"microsoft\", \"apple\"}\n",
        "p.intersection_update(q)\n",
        "print(p)"
      ],
      "metadata": {
        "colab": {
          "base_uri": "https://localhost:8080/"
        },
        "id": "Y13exv-jqECD",
        "outputId": "3ad04039-d804-43a2-90a3-016539242c5d"
      },
      "execution_count": 43,
      "outputs": [
        {
          "output_type": "stream",
          "name": "stdout",
          "text": [
            "{'apple'}\n"
          ]
        }
      ]
    },
    {
      "cell_type": "code",
      "source": [
        "s = {\"red\", \"black\", \"grey\"}\n",
        "t = {\"blue\", \"grey\", \"yellow\"}\n",
        "u=s.symmetric_difference(t)\n",
        "print(u)"
      ],
      "metadata": {
        "colab": {
          "base_uri": "https://localhost:8080/"
        },
        "id": "XfqE1ERfqdjr",
        "outputId": "f182181e-4e18-48d3-cb77-c6fbd4a64b6f"
      },
      "execution_count": 44,
      "outputs": [
        {
          "output_type": "stream",
          "name": "stdout",
          "text": [
            "{'yellow', 'blue', 'red', 'black'}\n"
          ]
        }
      ]
    },
    {
      "cell_type": "code",
      "source": [
        "s = {\"red\", \"black\", \"grey\"}\n",
        "t = {\"blue\", \"grey\", \"yellow\"}\n",
        "\n",
        "s.symmetric_difference_update(t)\n",
        "\n",
        "print(s)"
      ],
      "metadata": {
        "colab": {
          "base_uri": "https://localhost:8080/"
        },
        "id": "GuBZmHBHr54o",
        "outputId": "afbccad2-6023-484b-aa89-699a59718301"
      },
      "execution_count": 45,
      "outputs": [
        {
          "output_type": "stream",
          "name": "stdout",
          "text": [
            "{'yellow', 'blue', 'red', 'black'}\n"
          ]
        }
      ]
    },
    {
      "cell_type": "code",
      "source": [
        "u = {\"apple\", \"banana\", \"cherry\", True}\n",
        "v = {\"google\", 1, \"apple\", 2}\n",
        "w = u.symmetric_difference(v)\n",
        "print(w) #True and 1 is considered the same value"
      ],
      "metadata": {
        "colab": {
          "base_uri": "https://localhost:8080/"
        },
        "id": "zuXoyLhFsaMW",
        "outputId": "7f3ad42b-f67e-40fe-8a36-64f447cbc5ca"
      },
      "execution_count": 46,
      "outputs": [
        {
          "output_type": "stream",
          "name": "stdout",
          "text": [
            "{2, 'cherry', 'google', 'banana'}\n"
          ]
        }
      ]
    },
    {
      "cell_type": "markdown",
      "source": [
        "### **4. Dictionaries**:\n",
        "\n",
        "***Definition***:-  \n",
        "A dictionary is an unordered collection of key-value pairs. It is defined using curly braces { } with colon : separating keys and values.  \n",
        "***Declaration***:-  \n",
        "my_dict = {'name': 'John', 'age': 25, 'city': 'New York'}"
      ],
      "metadata": {
        "id": "M2-Oyc9KGipl"
      }
    },
    {
      "cell_type": "code",
      "source": [
        "store={\"brand\":\"Haldirams\",\"flavour\":\"Pajabi tadka\",\"price\":10}\n",
        "print(store)\n",
        "print(type(store))"
      ],
      "metadata": {
        "id": "1c_41Dq0spb3",
        "colab": {
          "base_uri": "https://localhost:8080/"
        },
        "outputId": "1e1a1462-faed-4722-fc34-187ccdcdf772"
      },
      "execution_count": 47,
      "outputs": [
        {
          "output_type": "stream",
          "name": "stdout",
          "text": [
            "{'brand': 'Haldirams', 'flavour': 'Pajabi tadka', 'price': 10}\n",
            "<class 'dict'>\n"
          ]
        }
      ]
    },
    {
      "cell_type": "code",
      "source": [
        "print(store['brand'])"
      ],
      "metadata": {
        "colab": {
          "base_uri": "https://localhost:8080/"
        },
        "id": "B4PQ7tqwLb91",
        "outputId": "c765bf3b-40f2-4f1b-c83b-f79ea5677cda"
      },
      "execution_count": 48,
      "outputs": [
        {
          "output_type": "stream",
          "name": "stdout",
          "text": [
            "Haldirams\n"
          ]
        }
      ]
    },
    {
      "cell_type": "code",
      "source": [
        "print(len(store))"
      ],
      "metadata": {
        "colab": {
          "base_uri": "https://localhost:8080/"
        },
        "id": "lK68NB-bLqF_",
        "outputId": "0b0ba329-331c-45d3-f014-319a9fee543f"
      },
      "execution_count": 49,
      "outputs": [
        {
          "output_type": "stream",
          "name": "stdout",
          "text": [
            "3\n"
          ]
        }
      ]
    },
    {
      "cell_type": "code",
      "source": [
        "store={\"brand\":\"Haldirams\",\"flavour\":\"Pajabi tadka\",\"price\":10,'colors':['red','yellow','blue']}"
      ],
      "metadata": {
        "id": "DUc9NmRLLvYA"
      },
      "execution_count": 50,
      "outputs": []
    },
    {
      "cell_type": "code",
      "source": [
        "print(store)"
      ],
      "metadata": {
        "colab": {
          "base_uri": "https://localhost:8080/"
        },
        "id": "4AdHd3wGL_Zd",
        "outputId": "8c4a745f-a6f9-4b2f-e575-785676a66660"
      },
      "execution_count": 51,
      "outputs": [
        {
          "output_type": "stream",
          "name": "stdout",
          "text": [
            "{'brand': 'Haldirams', 'flavour': 'Pajabi tadka', 'price': 10, 'colors': ['red', 'yellow', 'blue']}\n"
          ]
        }
      ]
    },
    {
      "cell_type": "code",
      "source": [
        "x=store['flavour']\n",
        "x"
      ],
      "metadata": {
        "colab": {
          "base_uri": "https://localhost:8080/",
          "height": 35
        },
        "id": "i4sCZjWJMA8U",
        "outputId": "d9de4864-7b5c-4819-ce5e-bae3733cb46d"
      },
      "execution_count": 52,
      "outputs": [
        {
          "output_type": "execute_result",
          "data": {
            "text/plain": [
              "'Pajabi tadka'"
            ],
            "application/vnd.google.colaboratory.intrinsic+json": {
              "type": "string"
            }
          },
          "metadata": {},
          "execution_count": 52
        }
      ]
    },
    {
      "cell_type": "code",
      "source": [
        "x=store.get('flavour')\n",
        "x"
      ],
      "metadata": {
        "colab": {
          "base_uri": "https://localhost:8080/",
          "height": 35
        },
        "id": "CCenW5doMVEk",
        "outputId": "6de3a7f8-d189-4569-eb03-8ba8367a26de"
      },
      "execution_count": 53,
      "outputs": [
        {
          "output_type": "execute_result",
          "data": {
            "text/plain": [
              "'Pajabi tadka'"
            ],
            "application/vnd.google.colaboratory.intrinsic+json": {
              "type": "string"
            }
          },
          "metadata": {},
          "execution_count": 53
        }
      ]
    },
    {
      "cell_type": "code",
      "source": [
        "store={\"brand\":\"Haldirams\",\"flavour\":\"Pajabi tadka\",\"price\":10}\n",
        "store"
      ],
      "metadata": {
        "colab": {
          "base_uri": "https://localhost:8080/"
        },
        "id": "CA9qLkBxMiKM",
        "outputId": "07ff699b-20b9-4ea0-f7b7-8e98675b929f"
      },
      "execution_count": 54,
      "outputs": [
        {
          "output_type": "execute_result",
          "data": {
            "text/plain": [
              "{'brand': 'Haldirams', 'flavour': 'Pajabi tadka', 'price': 10}"
            ]
          },
          "metadata": {},
          "execution_count": 54
        }
      ]
    },
    {
      "cell_type": "code",
      "source": [
        "x=store.keys()\n",
        "print(x) #before the change\n",
        "store['color']='Red'\n",
        "print(x) #after the change"
      ],
      "metadata": {
        "colab": {
          "base_uri": "https://localhost:8080/"
        },
        "id": "wDyEWy0kM2k7",
        "outputId": "15675f1e-c2ce-46ed-ef30-7d096407eadc"
      },
      "execution_count": 55,
      "outputs": [
        {
          "output_type": "stream",
          "name": "stdout",
          "text": [
            "dict_keys(['brand', 'flavour', 'price'])\n",
            "dict_keys(['brand', 'flavour', 'price', 'color'])\n"
          ]
        }
      ]
    },
    {
      "cell_type": "code",
      "source": [
        "store"
      ],
      "metadata": {
        "colab": {
          "base_uri": "https://localhost:8080/"
        },
        "id": "GwUsFO3lNRZq",
        "outputId": "34f7a453-7002-464c-9fe4-b2341fabc520"
      },
      "execution_count": 56,
      "outputs": [
        {
          "output_type": "execute_result",
          "data": {
            "text/plain": [
              "{'brand': 'Haldirams', 'flavour': 'Pajabi tadka', 'price': 10, 'color': 'Red'}"
            ]
          },
          "metadata": {},
          "execution_count": 56
        }
      ]
    },
    {
      "cell_type": "code",
      "source": [
        "y=store.values()\n",
        "y"
      ],
      "metadata": {
        "colab": {
          "base_uri": "https://localhost:8080/"
        },
        "id": "uu-oHyDSNSsJ",
        "outputId": "b681b380-f45e-495e-a4a5-739534e588fe"
      },
      "execution_count": 57,
      "outputs": [
        {
          "output_type": "execute_result",
          "data": {
            "text/plain": [
              "dict_values(['Haldirams', 'Pajabi tadka', 10, 'Red'])"
            ]
          },
          "metadata": {},
          "execution_count": 57
        }
      ]
    },
    {
      "cell_type": "code",
      "source": [
        "x"
      ],
      "metadata": {
        "colab": {
          "base_uri": "https://localhost:8080/"
        },
        "id": "ybqQyCRMO8fU",
        "outputId": "ba76d2f6-1816-4503-cafe-e4a64d80b8b6"
      },
      "execution_count": 58,
      "outputs": [
        {
          "output_type": "execute_result",
          "data": {
            "text/plain": [
              "dict_keys(['brand', 'flavour', 'price', 'color'])"
            ]
          },
          "metadata": {},
          "execution_count": 58
        }
      ]
    },
    {
      "cell_type": "code",
      "source": [
        "x=store.values()\n",
        "store[\"price\"]=45\n",
        "print(x)"
      ],
      "metadata": {
        "colab": {
          "base_uri": "https://localhost:8080/"
        },
        "id": "pzFw3wC9O_Uo",
        "outputId": "03bda001-abd3-41d2-9954-bfa7a69a4cf8"
      },
      "execution_count": 59,
      "outputs": [
        {
          "output_type": "stream",
          "name": "stdout",
          "text": [
            "dict_values(['Haldirams', 'Pajabi tadka', 45, 'Red'])\n"
          ]
        }
      ]
    },
    {
      "cell_type": "code",
      "source": [
        "x=store.items()\n",
        "x"
      ],
      "metadata": {
        "colab": {
          "base_uri": "https://localhost:8080/"
        },
        "id": "GAhCiIFYPxJl",
        "outputId": "f553be2c-9b45-43ee-ee69-e5a6022aaaae"
      },
      "execution_count": 60,
      "outputs": [
        {
          "output_type": "execute_result",
          "data": {
            "text/plain": [
              "dict_items([('brand', 'Haldirams'), ('flavour', 'Pajabi tadka'), ('price', 45), ('color', 'Red')])"
            ]
          },
          "metadata": {},
          "execution_count": 60
        }
      ]
    },
    {
      "cell_type": "code",
      "source": [
        "store"
      ],
      "metadata": {
        "colab": {
          "base_uri": "https://localhost:8080/"
        },
        "id": "qVD1WpiXQta2",
        "outputId": "59ded75e-f375-4ed4-9b87-9bbccb5bc835"
      },
      "execution_count": 61,
      "outputs": [
        {
          "output_type": "execute_result",
          "data": {
            "text/plain": [
              "{'brand': 'Haldirams', 'flavour': 'Pajabi tadka', 'price': 45, 'color': 'Red'}"
            ]
          },
          "metadata": {},
          "execution_count": 61
        }
      ]
    },
    {
      "cell_type": "code",
      "source": [
        "store.update({'price':10})"
      ],
      "metadata": {
        "id": "QcIJNSJHScB7"
      },
      "execution_count": 62,
      "outputs": []
    },
    {
      "cell_type": "code",
      "source": [
        "store"
      ],
      "metadata": {
        "colab": {
          "base_uri": "https://localhost:8080/"
        },
        "id": "PaZ_e2MSSiqj",
        "outputId": "a18af57b-d4fc-4e32-a588-ddabd2645cc8"
      },
      "execution_count": 63,
      "outputs": [
        {
          "output_type": "execute_result",
          "data": {
            "text/plain": [
              "{'brand': 'Haldirams', 'flavour': 'Pajabi tadka', 'price': 10, 'color': 'Red'}"
            ]
          },
          "metadata": {},
          "execution_count": 63
        }
      ]
    },
    {
      "cell_type": "code",
      "source": [
        "for x in store:\n",
        "  print(x) # to get key using for loop"
      ],
      "metadata": {
        "colab": {
          "base_uri": "https://localhost:8080/"
        },
        "id": "toV_JTppS6px",
        "outputId": "3aefecf5-da8e-40d0-a88c-679929bb0058"
      },
      "execution_count": 64,
      "outputs": [
        {
          "output_type": "stream",
          "name": "stdout",
          "text": [
            "brand\n",
            "flavour\n",
            "price\n",
            "color\n"
          ]
        }
      ]
    },
    {
      "cell_type": "code",
      "source": [
        "for x in store:\n",
        "  print(store[x]) # to get values using for loop"
      ],
      "metadata": {
        "colab": {
          "base_uri": "https://localhost:8080/"
        },
        "id": "dQ-VACNbTSwh",
        "outputId": "14414c9b-e710-4b6c-f121-58e6fdf1c572"
      },
      "execution_count": 65,
      "outputs": [
        {
          "output_type": "stream",
          "name": "stdout",
          "text": [
            "Haldirams\n",
            "Pajabi tadka\n",
            "10\n",
            "Red\n"
          ]
        }
      ]
    },
    {
      "cell_type": "code",
      "source": [
        "for x in store.values():\n",
        "  print(x)"
      ],
      "metadata": {
        "colab": {
          "base_uri": "https://localhost:8080/"
        },
        "id": "CfJuWUqXTnSA",
        "outputId": "023e7a43-c586-4e2d-c7e3-c2f61241da2f"
      },
      "execution_count": 66,
      "outputs": [
        {
          "output_type": "stream",
          "name": "stdout",
          "text": [
            "Haldirams\n",
            "Pajabi tadka\n",
            "10\n",
            "Red\n"
          ]
        }
      ]
    },
    {
      "cell_type": "code",
      "source": [
        "for x in store.keys():\n",
        "  print(x)"
      ],
      "metadata": {
        "colab": {
          "base_uri": "https://localhost:8080/"
        },
        "id": "uqnDPMnVUBUO",
        "outputId": "749d870d-1f0f-413f-8338-869f4b5374fc"
      },
      "execution_count": 67,
      "outputs": [
        {
          "output_type": "stream",
          "name": "stdout",
          "text": [
            "brand\n",
            "flavour\n",
            "price\n",
            "color\n"
          ]
        }
      ]
    },
    {
      "cell_type": "code",
      "source": [
        "for x,y in store.items():\n",
        "  print(x,y)"
      ],
      "metadata": {
        "colab": {
          "base_uri": "https://localhost:8080/"
        },
        "id": "17Y56Xx0UKqg",
        "outputId": "ad2eea7b-dbf5-4ef8-a583-740d3d1ef754"
      },
      "execution_count": 68,
      "outputs": [
        {
          "output_type": "stream",
          "name": "stdout",
          "text": [
            "brand Haldirams\n",
            "flavour Pajabi tadka\n",
            "price 10\n",
            "color Red\n"
          ]
        }
      ]
    },
    {
      "cell_type": "code",
      "source": [
        "# Copy a Dictionary\n",
        "model={\"brand\":\"Ford\",\"Model\":\"Mustang\",\"Year\":\"2002\"}\n",
        "mydict=dict(model)\n",
        "print(mydict)"
      ],
      "metadata": {
        "id": "m2ernNVRUSr2",
        "colab": {
          "base_uri": "https://localhost:8080/"
        },
        "outputId": "4ef7e8c1-369e-4ff4-d7de-8fd283c1daa6"
      },
      "execution_count": 69,
      "outputs": [
        {
          "output_type": "stream",
          "name": "stdout",
          "text": [
            "{'brand': 'Ford', 'Model': 'Mustang', 'Year': '2002'}\n"
          ]
        }
      ]
    },
    {
      "cell_type": "code",
      "source": [
        "# Nested Dictionary\n",
        "myfamily = {\"child1\" : {\"name\" : \"Emil\",\"year\" : 2004},\"child2\" : {\"name\" : \"Tobias\",\"year\" : 2007},\"child3\" : {\"name\" : \"Linus\",\"year\" : 2011}}\n",
        "myfamily"
      ],
      "metadata": {
        "colab": {
          "base_uri": "https://localhost:8080/"
        },
        "id": "wYck08Fz1VBr",
        "outputId": "014db06a-421f-4c79-a4aa-987e79f6355a"
      },
      "execution_count": 71,
      "outputs": [
        {
          "output_type": "execute_result",
          "data": {
            "text/plain": [
              "{'child1': {'name': 'Emil', 'year': 2004},\n",
              " 'child2': {'name': 'Tobias', 'year': 2007},\n",
              " 'child3': {'name': 'Linus', 'year': 2011}}"
            ]
          },
          "metadata": {},
          "execution_count": 71
        }
      ]
    },
    {
      "cell_type": "code",
      "source": [
        "# Add 3 dictionaries into a new dictionary\n",
        "\n",
        "stud1 = {'name':'Kumar','year':2000}\n",
        "stud2 = {'name':'Raj','year':2006}\n",
        "stud3 = {'name':'Mani','year':2002}\n",
        "myclass={'stud1':stud1,'stud2':stud2,'stud3':stud3}\n",
        "print(myclass)"
      ],
      "metadata": {
        "id": "aic4vUzBkq4v",
        "colab": {
          "base_uri": "https://localhost:8080/"
        },
        "outputId": "2a681ea1-d666-45b7-86b0-e2b16d06a28a"
      },
      "execution_count": 73,
      "outputs": [
        {
          "output_type": "stream",
          "name": "stdout",
          "text": [
            "{'stud1': {'name': 'Kumar', 'year': 2000}, 'stud2': {'name': 'Raj', 'year': 2006}, 'stud3': {'name': 'Mani', 'year': 2002}}\n"
          ]
        }
      ]
    },
    {
      "cell_type": "code",
      "source": [
        "print(myclass['stud3']['name'])"
      ],
      "metadata": {
        "colab": {
          "base_uri": "https://localhost:8080/"
        },
        "id": "7JAY7IyM5hKI",
        "outputId": "1aeb241b-117d-4526-c8d6-fa569fe03f6a"
      },
      "execution_count": 74,
      "outputs": [
        {
          "output_type": "stream",
          "name": "stdout",
          "text": [
            "Mani\n"
          ]
        }
      ]
    },
    {
      "cell_type": "code",
      "source": [
        "myclass.items()"
      ],
      "metadata": {
        "colab": {
          "base_uri": "https://localhost:8080/"
        },
        "id": "uzBGwsvG6gPx",
        "outputId": "43acfffa-796e-4285-8ad6-420af1604832"
      },
      "execution_count": 80,
      "outputs": [
        {
          "output_type": "execute_result",
          "data": {
            "text/plain": [
              "dict_items([('stud1', {'name': 'Kumar', 'year': 2000}), ('stud2', {'name': 'Raj', 'year': 2006}), ('stud3', {'name': 'Mani', 'year': 2002})])"
            ]
          },
          "metadata": {},
          "execution_count": 80
        }
      ]
    }
  ]
}
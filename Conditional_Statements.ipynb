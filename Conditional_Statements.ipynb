{
  "nbformat": 4,
  "nbformat_minor": 0,
  "metadata": {
    "colab": {
      "provenance": [],
      "authorship_tag": "ABX9TyPMHBZHMF+FBYJ2j0jdXqwy"
    },
    "kernelspec": {
      "name": "python3",
      "display_name": "Python 3"
    },
    "language_info": {
      "name": "python"
    }
  },
  "cells": [
    {
      "cell_type": "markdown",
      "source": [
        "## **CONDITIONAL STATEMENTS**\n",
        "Conditional statements in Python languages decide the direction(Control Flow) of the flow of program execution."
      ],
      "metadata": {
        "id": "wAMA-AtL2nTt"
      }
    },
    {
      "cell_type": "markdown",
      "source": [
        "Python conditional statements are as follows\n",
        "* The if statement\n",
        "* The if-else statement\n",
        "* The nested-if statement\n",
        "* The if-elif-else ladder"
      ],
      "metadata": {
        "id": "gk_1_tcg35Qh"
      }
    },
    {
      "cell_type": "markdown",
      "source": [
        "**1. Python if statement :-**  \n",
        "The if statement is the most simple decision-making statement. It is used to decide whether a certain statement or block of statements will be executed or not.\n",
        "\n",
        "Syntax:\n",
        "\n",
        "if condition:\n",
        "  Statements to execute if  \n",
        "  condition is true"
      ],
      "metadata": {
        "id": "EMxVgmsf-gZz"
      }
    },
    {
      "cell_type": "code",
      "source": [
        "# Expample\n",
        "i = 10\n",
        "if (i > 15):\n",
        "    print(\"10 is less than 15\")\n",
        "print(\"I am Not in if\")"
      ],
      "metadata": {
        "colab": {
          "base_uri": "https://localhost:8080/"
        },
        "id": "PuSvAa6u34J8",
        "outputId": "fd75fde4-9fa4-4813-fec5-8031a9b5e1ac"
      },
      "execution_count": 1,
      "outputs": [
        {
          "output_type": "stream",
          "name": "stdout",
          "text": [
            "I am Not in if\n"
          ]
        }
      ]
    },
    {
      "cell_type": "markdown",
      "source": [
        "**2. Python If-Else Statement:-**  \n",
        "The if statement alone tells us that if a condition is true it will execute a block of statements and if the condition is false it won’t. But if we want to do something else if the condition is false, we can use the else statement with the if statement to execute a block of code when the if condition is false.\n",
        "\n",
        "Syntax of Python If-Else:\n",
        "\n",
        "if (condition):  \n",
        "     Executes this block if  \n",
        "     condition is true   \n",
        "else:   \n",
        "     Executes this block if   \n",
        "     condition is false"
      ],
      "metadata": {
        "id": "0ouK6633DbAp"
      }
    },
    {
      "cell_type": "code",
      "source": [
        "i = 20\n",
        "if (i < 15):\n",
        "    print(\"i is smaller than 15\")\n",
        "    print(\"i'm in if Block\")\n",
        "else:\n",
        "    print(\"i is greater than 15\")\n",
        "    print(\"i'm in else Block\")\n",
        "print(\"i'm not in if and not in else Block\")"
      ],
      "metadata": {
        "colab": {
          "base_uri": "https://localhost:8080/"
        },
        "id": "JwQrHDi52rRW",
        "outputId": "9cb07d2c-7155-4870-f7d7-b6a6a5aa45d1"
      },
      "execution_count": 2,
      "outputs": [
        {
          "output_type": "stream",
          "name": "stdout",
          "text": [
            "i is greater than 15\n",
            "i'm in else Block\n",
            "i'm not in if and not in else Block\n"
          ]
        }
      ]
    },
    {
      "cell_type": "markdown",
      "source": [
        "Python if else statement in a List Comprehension:-   \n",
        "In this example, we are using an if statement in a list comprehension with the condition that if the element of the list is odd then its digit sum will be stored else not."
      ],
      "metadata": {
        "id": "SveVxYlMKM1c"
      }
    },
    {
      "cell_type": "code",
      "source": [
        "# Explicit function\n",
        "def digitSum(n):\n",
        "    dsum = 0\n",
        "    for ele in str(n):\n",
        "        dsum += int(ele)\n",
        "    return dsum\n",
        "\n",
        "\n",
        "# Initializing list\n",
        "List = [367, 111, 562, 945, 6726, 873]\n",
        "\n",
        "# Using the function on odd elements of the list\n",
        "newList = [digitSum(i) for i in List if i & 1]\n",
        "\n",
        "# Displaying new list\n",
        "print(newList)"
      ],
      "metadata": {
        "colab": {
          "base_uri": "https://localhost:8080/"
        },
        "id": "V2-Mp6wm2rX3",
        "outputId": "f9415fad-42c5-4d91-9001-45ce774be18a"
      },
      "execution_count": 3,
      "outputs": [
        {
          "output_type": "stream",
          "name": "stdout",
          "text": [
            "[16, 3, 18, 18]\n"
          ]
        }
      ]
    },
    {
      "cell_type": "markdown",
      "source": [
        "**3. Nested-If Statement in Python:-**   \n",
        "A nested if is an if statement that is the target of another if statement. Nested if statements mean an if statement inside another if statement.\n",
        "\n",
        "Yes, Python allows us to nest if statements within if statements. i.e., we can place an if statement inside another if statement.\n",
        "\n",
        "Syntax:\n",
        "\n",
        "if (condition1):  \n",
        "     Executes when condition1 is true   \n",
        "   if (condition2):   \n",
        "     Executes when condition2 is true   \n",
        "   if Block is end here   \n",
        "if Block is end here"
      ],
      "metadata": {
        "id": "RlDJQ6ydRJgL"
      }
    },
    {
      "cell_type": "code",
      "source": [
        "i=10\n",
        "if(i==10):\n",
        "  if(i<15):\n",
        "    print('i is less than 15')\n",
        "  if(i<12):\n",
        "    print('i is less than 12 too')\n",
        "  else:\n",
        "    print('i is greater than than 15 ')"
      ],
      "metadata": {
        "colab": {
          "base_uri": "https://localhost:8080/"
        },
        "id": "IJI5MjUxzDSI",
        "outputId": "9b2b2d67-36de-4e17-909d-a453266d929d"
      },
      "execution_count": 7,
      "outputs": [
        {
          "output_type": "stream",
          "name": "stdout",
          "text": [
            "i is less than 15\n",
            "i is less than 12 too\n"
          ]
        }
      ]
    },
    {
      "cell_type": "code",
      "source": [
        "# python program to illustrate nested If statement\n",
        "\n",
        "i = 10\n",
        "if (i == 10):\n",
        "    #  First if statement\n",
        "    if (i < 15):\n",
        "        print(\"i is smaller than 15\")\n",
        "    # Nested - if statement\n",
        "    # Will only be executed if statement above\n",
        "    # it is true\n",
        "    if (i < 12):\n",
        "        print(\"i is smaller than 12 too\")\n",
        "    else:\n",
        "        print(\"i is greater than 15\")"
      ],
      "metadata": {
        "colab": {
          "base_uri": "https://localhost:8080/"
        },
        "id": "8GV8VuCO2rdc",
        "outputId": "80d5da03-2d79-4b04-88a5-a004985599ce"
      },
      "execution_count": 6,
      "outputs": [
        {
          "output_type": "stream",
          "name": "stdout",
          "text": [
            "i is smaller than 15\n",
            "i is smaller than 12 too\n"
          ]
        }
      ]
    },
    {
      "cell_type": "markdown",
      "source": [
        "**4. Python if-elif-else :-**  \n",
        "Here, a user can decide among multiple options. The if statements are executed from the top down.\n",
        "\n",
        "As soon as one of the conditions controlling the if is true, the statement associated with that if is executed, and the rest of the ladder is bypassed. If none of the conditions is true, then the final “else” statement will be executed.\n",
        "\n",
        "Syntax:\n",
        "\n",
        "if (condition):  \n",
        "  statement  \n",
        "elif (condition):  \n",
        "  statement  \n",
        "else:  \n",
        "  statement"
      ],
      "metadata": {
        "id": "qo0dF8nKThx2"
      }
    },
    {
      "cell_type": "code",
      "source": [
        "i = 20\n",
        "if (i == 10):\n",
        "    print(\"i is 10\")\n",
        "elif (i == 15):\n",
        "    print(\"i is 15\")\n",
        "elif (i == 20):\n",
        "    print(\"i is 20\")\n",
        "else:\n",
        "    print(\"i is not present\")"
      ],
      "metadata": {
        "colab": {
          "base_uri": "https://localhost:8080/"
        },
        "id": "7RIG2_Fs2ri4",
        "outputId": "50262c04-13b0-48e9-edf3-e98d7b1c7f60"
      },
      "execution_count": 5,
      "outputs": [
        {
          "output_type": "stream",
          "name": "stdout",
          "text": [
            "i is 20\n"
          ]
        }
      ]
    }
  ]
}
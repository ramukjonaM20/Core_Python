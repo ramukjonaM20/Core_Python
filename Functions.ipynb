{
  "nbformat": 4,
  "nbformat_minor": 0,
  "metadata": {
    "colab": {
      "provenance": [],
      "authorship_tag": "ABX9TyNsTBA18Z0Y76pIcPKe5tMg"
    },
    "kernelspec": {
      "name": "python3",
      "display_name": "Python 3"
    },
    "language_info": {
      "name": "python"
    }
  },
  "cells": [
    {
      "cell_type": "markdown",
      "source": [
        "#**Functions :-**\n",
        "\n",
        "A function is a block of code which only runs when it is called. You can pass data, known as parameters, into a function. A function can return data as a result.\n",
        "\n",
        "***Types of Functions in Python:-***  \n",
        "There are mainly two types of functions in Python.\n",
        "\n",
        "**Built-in library function**:   \n",
        " These are Standard functions in Python that are available to use.  \n",
        "**User-defined function:**  \n",
        "We can create our own functions based on our requirements.\n"
      ],
      "metadata": {
        "id": "9D6zHUE1k9C-"
      }
    },
    {
      "cell_type": "code",
      "source": [
        "# A simple Python function\n",
        "def fun():\n",
        "    print(\"Welcome to Google Colab\")\n",
        "# Call a function\n",
        "fun()"
      ],
      "metadata": {
        "colab": {
          "base_uri": "https://localhost:8080/"
        },
        "id": "yIIgh957m-Oj",
        "outputId": "4993b42e-6d4f-4aa1-d1f6-0650ed1230c7"
      },
      "execution_count": 3,
      "outputs": [
        {
          "output_type": "stream",
          "name": "stdout",
          "text": [
            "Welcome to Google Colab\n"
          ]
        }
      ]
    },
    {
      "cell_type": "markdown",
      "source": [
        "### **Arguments**\n",
        "Information can be passed into functions as arguments. Arguments are specified after the function name, inside the parentheses. You can add as many arguments as you want, just separate them with a comma."
      ],
      "metadata": {
        "id": "K5lVszCRqLsX"
      }
    },
    {
      "cell_type": "code",
      "source": [
        "def my_function(fname):\n",
        "  print(fname + \" Fruit\")\n",
        "\n",
        "my_function(\"Pomegranate\")\n",
        "my_function(\"Apple\")\n",
        "my_function(\"Mango\")"
      ],
      "metadata": {
        "colab": {
          "base_uri": "https://localhost:8080/"
        },
        "id": "ibrEi_oKnQdV",
        "outputId": "4ed3c851-d513-4323-b843-1ee94de7a238"
      },
      "execution_count": 6,
      "outputs": [
        {
          "output_type": "stream",
          "name": "stdout",
          "text": [
            "Pomegranate Fruit\n",
            "Apple Fruit\n",
            "Mango Fruit\n"
          ]
        }
      ]
    },
    {
      "cell_type": "markdown",
      "source": [
        "### ***Types of Python Function Arguments:-***  \n",
        "Python supports various types of arguments that can be passed at the time of the function call. In Python, we have the following 4 types of function arguments.\n",
        "* Default argument\n",
        "* Keyword arguments\n",
        "* Positional arguments\n",
        "* Arbitrary arguments"
      ],
      "metadata": {
        "id": "Q4FuCBCUxMWg"
      }
    },
    {
      "cell_type": "markdown",
      "source": [
        "***Default Arguments:-***  \n",
        "A default argument is a parameter that assumes a default value if a value is not provided in the function call for that argument. The following example illustrates Default arguments."
      ],
      "metadata": {
        "id": "7XFAL2Hix0YK"
      }
    },
    {
      "cell_type": "code",
      "source": [
        "# default arguments\n",
        "def myFun(x, y=50):\n",
        "    print(\"x: \", x)\n",
        "    print(\"y: \", y)\n",
        "myFun(10)"
      ],
      "metadata": {
        "colab": {
          "base_uri": "https://localhost:8080/"
        },
        "id": "YLDx061nqk-k",
        "outputId": "529be927-ab8a-467e-a926-9316e56b1cfb"
      },
      "execution_count": 7,
      "outputs": [
        {
          "output_type": "stream",
          "name": "stdout",
          "text": [
            "x:  10\n",
            "y:  50\n"
          ]
        }
      ]
    },
    {
      "cell_type": "markdown",
      "source": [
        "***Keyword Arguments:-***  \n",
        "The idea is to allow the caller to specify the argument name with values so that the caller does not need to remember the order of parameters."
      ],
      "metadata": {
        "id": "ZmOtmkZuyMEx"
      }
    },
    {
      "cell_type": "code",
      "source": [
        "def student(firstname, lastname):\n",
        "    print(firstname, lastname)\n",
        "# Keyword arguments\n",
        "student(firstname='Google', lastname='Colab')\n",
        "student(lastname='Hub', firstname='Git')\n"
      ],
      "metadata": {
        "colab": {
          "base_uri": "https://localhost:8080/"
        },
        "id": "kZwA7wrsyKwu",
        "outputId": "c429b98a-915a-4388-b932-95820c4b4e88"
      },
      "execution_count": 9,
      "outputs": [
        {
          "output_type": "stream",
          "name": "stdout",
          "text": [
            "Google Colab\n",
            "Git Hub\n"
          ]
        }
      ]
    },
    {
      "cell_type": "markdown",
      "source": [
        "***Positional Arguments:-***  \n",
        "We used the Position argument during the function call so that the first argument (or value) is assigned to name and the second argument (or value) is assigned to age."
      ],
      "metadata": {
        "id": "5As4XN2b0Onl"
      }
    },
    {
      "cell_type": "code",
      "source": [
        "def nameAge(name, age):\n",
        "    print(\"Hi, I am\", name)\n",
        "    print(\"My age is \", age)\n",
        "print(\"Case - 1:\")\n",
        "nameAge(\"Suraj\", 27)\n",
        "print(\"\\nCase - 2:\")\n",
        "nameAge(27, \"Suraj\")"
      ],
      "metadata": {
        "colab": {
          "base_uri": "https://localhost:8080/"
        },
        "id": "4egnuT47yvpZ",
        "outputId": "5252051f-1394-4b80-cb9c-c321fca927ea"
      },
      "execution_count": 10,
      "outputs": [
        {
          "output_type": "stream",
          "name": "stdout",
          "text": [
            "Case-1:\n",
            "Hi, I am Suraj\n",
            "My age is  27\n",
            "\n",
            "Case-2:\n",
            "Hi, I am 27\n",
            "My age is  Suraj\n"
          ]
        }
      ]
    },
    {
      "cell_type": "markdown",
      "source": [
        "***Arbitrary Keyword  Arguments:-***  \n",
        "In Python Arbitrary Keyword Arguments, *args, and **kwargs can pass a variable number of arguments to a function using special symbols.   \n",
        "There are two special symbols:  \n",
        "\n",
        "*args in Python (Non-Keyword Arguments)  \n",
        "**kwargs in Python (Keyword Arguments)"
      ],
      "metadata": {
        "id": "vbawpIH70QQk"
      }
    },
    {
      "cell_type": "code",
      "source": [
        "# *args for variable number of arguments\n",
        "def myFun(*argv):\n",
        "    for arg in argv:\n",
        "        print(arg)\n",
        "myFun('Hello', 'Welcome', 'to', 'GoogleColab')"
      ],
      "metadata": {
        "colab": {
          "base_uri": "https://localhost:8080/"
        },
        "id": "IGpikzbr1SLp",
        "outputId": "d2a5a312-66a3-4dd7-b933-5886e89625bf"
      },
      "execution_count": 11,
      "outputs": [
        {
          "output_type": "stream",
          "name": "stdout",
          "text": [
            "Hello\n",
            "Welcome\n",
            "to\n",
            "GoogleColab\n"
          ]
        }
      ]
    },
    {
      "cell_type": "code",
      "source": [
        "# *kwargs for variable number of keyword arguments\n",
        "def myFun(**kwargs):\n",
        "\tfor key, value in kwargs.items():\n",
        "\t\tprint(\"%s == %s\" % (key, value))\n",
        "myFun(first='Google Colab', mid='and', last='Github')\n"
      ],
      "metadata": {
        "colab": {
          "base_uri": "https://localhost:8080/"
        },
        "id": "zyap1ZMi2qQ5",
        "outputId": "0d2a4a29-8a89-4e2f-81c6-cffcc511f34e"
      },
      "execution_count": 12,
      "outputs": [
        {
          "output_type": "stream",
          "name": "stdout",
          "text": [
            "first == Google Colab\n",
            "mid == and\n",
            "last == Github\n"
          ]
        }
      ]
    },
    {
      "cell_type": "markdown",
      "source": [
        "### **Python Function within Functions**\n",
        "A function that is defined inside another function is known as the inner function or nested function."
      ],
      "metadata": {
        "id": "sQt1kMld3Ysc"
      }
    },
    {
      "cell_type": "code",
      "source": [
        "def f1():\n",
        "    s = 'Happy Learning'\n",
        "    def f2():\n",
        "        print(s)\n",
        "    f2()\n",
        "f1()"
      ],
      "metadata": {
        "colab": {
          "base_uri": "https://localhost:8080/"
        },
        "id": "D246Ps-s3KOl",
        "outputId": "70fc6aa9-9c3a-4456-b372-ec11d8ac6803"
      },
      "execution_count": 13,
      "outputs": [
        {
          "output_type": "stream",
          "name": "stdout",
          "text": [
            "Happy Learning\n"
          ]
        }
      ]
    },
    {
      "cell_type": "markdown",
      "source": [
        "### **Anonymous Functions in Python**\n",
        "In Python, an anonymous function means that a function is without a name. As we already know the def keyword is used to define the normal functions and the lambda keyword is used to create anonymous functions."
      ],
      "metadata": {
        "id": "vke-lFtp4Hx1"
      }
    },
    {
      "cell_type": "code",
      "source": [
        "def cube(x): return x*x*x\n",
        "cube_v2 = lambda x : x*x*x\n",
        "print(cube(7))\n",
        "print(cube_v2(7))"
      ],
      "metadata": {
        "colab": {
          "base_uri": "https://localhost:8080/"
        },
        "id": "7VcvRKPd3nP3",
        "outputId": "42fc4739-436e-4293-f0f1-e2f966fb5265"
      },
      "execution_count": 14,
      "outputs": [
        {
          "output_type": "stream",
          "name": "stdout",
          "text": [
            "343\n",
            "343\n"
          ]
        }
      ]
    },
    {
      "cell_type": "markdown",
      "source": [
        "### **Recursive Functions in Python**\n",
        "Recursion in Python refers to when a function calls itself. There are many instances when you have to build a recursive function to solve Mathematical and Recursive Problems."
      ],
      "metadata": {
        "id": "4tMWoIWH4f8H"
      }
    },
    {
      "cell_type": "code",
      "source": [
        "def factorial(n):\n",
        "    if n == 0:\n",
        "        return 1\n",
        "    else:\n",
        "        return n * factorial(n - 1)\n",
        "n=int(input('Enter a Number : '))\n",
        "print(factorial(n))"
      ],
      "metadata": {
        "colab": {
          "base_uri": "https://localhost:8080/"
        },
        "id": "DW6nX-yg4Uxw",
        "outputId": "ae25a17c-7382-420c-9c9a-30c2a315b629"
      },
      "execution_count": 19,
      "outputs": [
        {
          "output_type": "stream",
          "name": "stdout",
          "text": [
            "Enter a Number : 5\n",
            "120\n"
          ]
        }
      ]
    }
  ]
}
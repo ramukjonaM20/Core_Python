{
  "nbformat": 4,
  "nbformat_minor": 0,
  "metadata": {
    "colab": {
      "provenance": [],
      "authorship_tag": "ABX9TyMD/uuGcgeD4W3bb82l6BBv",
      "include_colab_link": true
    },
    "kernelspec": {
      "name": "python3",
      "display_name": "Python 3"
    },
    "language_info": {
      "name": "python"
    }
  },
  "cells": [
    {
      "cell_type": "markdown",
      "metadata": {
        "id": "view-in-github",
        "colab_type": "text"
      },
      "source": [
        "<a href=\"https://colab.research.google.com/github/ramukjonaM20/Core_Python/blob/main/Variables.ipynb\" target=\"_parent\"><img src=\"https://colab.research.google.com/assets/colab-badge.svg\" alt=\"Open In Colab\"/></a>"
      ]
    },
    {
      "cell_type": "markdown",
      "source": [
        "Variable :-  \n",
        "1. A variable name must start with a letter or the underscore character.(A-Z,_)\n",
        "2. A variable name cannot start with a number.(0-9)\n",
        "3. A variable name cannot be any of the Python keywords.\n",
        "4. Variable names are case-sensitive(age,Age,AGE)"
      ],
      "metadata": {
        "id": "8_9cd8QOmJSR"
      }
    },
    {
      "cell_type": "code",
      "execution_count": 2,
      "metadata": {
        "colab": {
          "base_uri": "https://localhost:8080/"
        },
        "id": "38TFINWzmCBZ",
        "outputId": "876d0bdf-676a-49e7-9cbf-a3cbfb8e018d"
      },
      "outputs": [
        {
          "output_type": "stream",
          "name": "stdout",
          "text": [
            "Kumar\n"
          ]
        }
      ],
      "source": [
        "myname=\"Kumar\"\n",
        "print(myname)"
      ]
    },
    {
      "cell_type": "markdown",
      "source": [
        "Python allows you to assign values to multiple variables in one line"
      ],
      "metadata": {
        "id": "xTgjUjsVoDlE"
      }
    },
    {
      "cell_type": "code",
      "source": [
        "x,y,z='Sunday','Monday','Tuesday'\n",
        "print(x)\n",
        "print(y)\n",
        "print(z)"
      ],
      "metadata": {
        "colab": {
          "base_uri": "https://localhost:8080/"
        },
        "id": "tOhV8zLdnxNW",
        "outputId": "a610c053-0f6e-470a-cc40-9924a6d1e39e"
      },
      "execution_count": 5,
      "outputs": [
        {
          "output_type": "stream",
          "name": "stdout",
          "text": [
            "Sunday\n",
            "Monday\n",
            "Tuesday\n"
          ]
        }
      ]
    },
    {
      "cell_type": "code",
      "source": [
        "# Unpack a Collection\n",
        "\n",
        "sports=['cricket','chess','carrom']\n",
        "x,y,z=sports\n",
        "print(x)\n",
        "print(y)\n",
        "print(z)"
      ],
      "metadata": {
        "colab": {
          "base_uri": "https://localhost:8080/"
        },
        "id": "UrkYrPERoCwi",
        "outputId": "c092bf84-b783-42b7-d14f-f1a27127e894"
      },
      "execution_count": 6,
      "outputs": [
        {
          "output_type": "stream",
          "name": "stdout",
          "text": [
            "cricket\n",
            "chess\n",
            "carrom\n"
          ]
        }
      ]
    }
  ]
}
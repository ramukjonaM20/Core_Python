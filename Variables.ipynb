{
  "nbformat": 4,
  "nbformat_minor": 0,
  "metadata": {
    "colab": {
      "provenance": [],
      "authorship_tag": "ABX9TyMyURHftSNPy9C9q/j4/xBp"
    },
    "kernelspec": {
      "name": "python3",
      "display_name": "Python 3"
    },
    "language_info": {
      "name": "python"
    }
  },
  "cells": [
    {
      "cell_type": "markdown",
      "source": [
        "#**Variable** :-  \n",
        "1. A variable name must start with a letter or the underscore character.(A-Z,_)\n",
        "2. A variable name cannot start with a number.(0-9)\n",
        "3. A variable name cannot be any of the Python keywords.\n",
        "4. Variable names are case-sensitive(age,Age,AGE)"
      ],
      "metadata": {
        "id": "8_9cd8QOmJSR"
      }
    },
    {
      "cell_type": "code",
      "execution_count": 1,
      "metadata": {
        "colab": {
          "base_uri": "https://localhost:8080/"
        },
        "id": "38TFINWzmCBZ",
        "outputId": "8014ef90-48ef-41f8-ca86-0b0c70879029"
      },
      "outputs": [
        {
          "output_type": "stream",
          "name": "stdout",
          "text": [
            "Kumar\n"
          ]
        }
      ],
      "source": [
        "myname=\"Kumar\"\n",
        "print(myname)"
      ]
    },
    {
      "cell_type": "markdown",
      "source": [
        "Python allows you to assign values to multiple variables in one line"
      ],
      "metadata": {
        "id": "xTgjUjsVoDlE"
      }
    },
    {
      "cell_type": "code",
      "source": [
        "x,y,z='Sunday','Monday','Tuesday'\n",
        "print(x)\n",
        "print(y)\n",
        "print(z)"
      ],
      "metadata": {
        "colab": {
          "base_uri": "https://localhost:8080/"
        },
        "id": "tOhV8zLdnxNW",
        "outputId": "bb9d1280-aec6-4d2c-d7b8-ac81632c0f9c"
      },
      "execution_count": 2,
      "outputs": [
        {
          "output_type": "stream",
          "name": "stdout",
          "text": [
            "Sunday\n",
            "Monday\n",
            "Tuesday\n"
          ]
        }
      ]
    },
    {
      "cell_type": "code",
      "source": [
        "# Unpack a Collection\n",
        "\n",
        "sports=['cricket','chess','carrom']\n",
        "x,y,z=sports\n",
        "print(x)\n",
        "print(y)\n",
        "print(z)"
      ],
      "metadata": {
        "colab": {
          "base_uri": "https://localhost:8080/"
        },
        "id": "UrkYrPERoCwi",
        "outputId": "36d7afc0-f110-494c-cff0-01ff1b33989d"
      },
      "execution_count": 3,
      "outputs": [
        {
          "output_type": "stream",
          "name": "stdout",
          "text": [
            "cricket\n",
            "chess\n",
            "carrom\n"
          ]
        }
      ]
    }
  ]
}
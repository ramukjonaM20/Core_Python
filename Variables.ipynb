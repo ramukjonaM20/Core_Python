{
  "nbformat": 4,
  "nbformat_minor": 0,
  "metadata": {
    "colab": {
      "provenance": [],
      "authorship_tag": "ABX9TyMyURHftSNPy9C9q/j4/xBp",
      "include_colab_link": true
    },
    "kernelspec": {
      "name": "python3",
      "display_name": "Python 3"
    },
    "language_info": {
      "name": "python"
    }
  },
  "cells": [
    {
      "cell_type": "markdown",
      "metadata": {
        "id": "view-in-github",
        "colab_type": "text"
      },
      "source": [
        "<a href=\"https://colab.research.google.com/github/ramukjonaM20/Core_Python/blob/main/Variables.ipynb\" target=\"_parent\"><img src=\"https://colab.research.google.com/assets/colab-badge.svg\" alt=\"Open In Colab\"/></a>"
      ]
    },
    {
      "cell_type": "markdown",
      "source": [
        "#**Variable** :-  \n",
        "1. A variable name must start with a letter or the underscore character.(A-Z,_)\n",
        "2. A variable name cannot start with a number.(0-9)\n",
        "3. A variable name cannot be any of the Python keywords.\n",
        "4. Variable names are case-sensitive(age,Age,AGE)"
      ],
      "metadata": {
        "id": "8_9cd8QOmJSR"
      }
    },
    {
      "cell_type": "code",
      "execution_count": 1,
      "metadata": {
        "colab": {
          "base_uri": "https://localhost:8080/"
        },
        "id": "38TFINWzmCBZ",
        "outputId": "213c1465-1bc9-4206-8313-b1e50f69cc89"
      },
      "outputs": [
        {
          "output_type": "stream",
          "name": "stdout",
          "text": [
            "Kumar\n"
          ]
        }
      ],
      "source": [
        "myname=\"Kumar\"\n",
        "print(myname)"
      ]
    },
    {
      "cell_type": "markdown",
      "source": [
        "Python allows you to assign values to multiple variables in one line"
      ],
      "metadata": {
        "id": "xTgjUjsVoDlE"
      }
    },
    {
      "cell_type": "code",
      "source": [
        "x,y,z='Sunday','Monday','Tuesday'\n",
        "print(x)\n",
        "print(y)\n",
        "print(z)"
      ],
      "metadata": {
        "colab": {
          "base_uri": "https://localhost:8080/"
        },
        "id": "tOhV8zLdnxNW",
        "outputId": "8d68b457-acf0-4453-b6d1-f9ac6fdfce2e"
      },
      "execution_count": 2,
      "outputs": [
        {
          "output_type": "stream",
          "name": "stdout",
          "text": [
            "Sunday\n",
            "Monday\n",
            "Tuesday\n"
          ]
        }
      ]
    },
    {
      "cell_type": "code",
      "source": [
        "# Unpack a Collection\n",
        "\n",
        "sports=['cricket','chess','carrom']\n",
        "x,y,z=sports\n",
        "print(x)\n",
        "print(y)\n",
        "print(z)"
      ],
      "metadata": {
        "colab": {
          "base_uri": "https://localhost:8080/"
        },
        "id": "UrkYrPERoCwi",
        "outputId": "3554b453-a089-4ae7-ac6c-807d89f3de41"
      },
      "execution_count": 3,
      "outputs": [
        {
          "output_type": "stream",
          "name": "stdout",
          "text": [
            "cricket\n",
            "chess\n",
            "carrom\n"
          ]
        }
      ]
    }
  ]
}